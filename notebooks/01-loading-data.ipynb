{
 "cells": [
  {
   "cell_type": "code",
   "execution_count": 3,
   "metadata": {},
   "outputs": [],
   "source": [
    "import sys\n",
    "sys.path.append('../src')\n",
    "\n",
    "import numpy as np\n",
    "import pandas as pd\n",
    "import yfinance as yf\n",
    "\n",
    "from config import YFINANCE_RAW, YFINANCE_CLEAN, YFINANCE_DESCRIBE\n",
    "from constants import tickers\n",
    "from data_loader import yahoo_quotes\n"
   ]
  },
  {
   "cell_type": "code",
   "execution_count": 2,
   "metadata": {},
   "outputs": [
    {
     "ename": "NameError",
     "evalue": "name 'tickers' is not defined",
     "output_type": "error",
     "traceback": [
      "\u001b[31m---------------------------------------------------------------------------\u001b[39m",
      "\u001b[31mNameError\u001b[39m                                 Traceback (most recent call last)",
      "\u001b[36mCell\u001b[39m\u001b[36m \u001b[39m\u001b[32mIn[2]\u001b[39m\u001b[32m, line 1\u001b[39m\n\u001b[32m----> \u001b[39m\u001b[32m1\u001b[39m tickers = \u001b[43mtickers\u001b[49m\n\u001b[32m      2\u001b[39m start_date = \u001b[33m'\u001b[39m\u001b[33m2010-01-01\u001b[39m\u001b[33m'\u001b[39m\n\u001b[32m      3\u001b[39m end_date = \u001b[33m'\u001b[39m\u001b[33m2025-12-31\u001b[39m\u001b[33m'\u001b[39m\n",
      "\u001b[31mNameError\u001b[39m: name 'tickers' is not defined"
     ]
    }
   ],
   "source": [
    "tickers = tickers\n",
    "start_date = '2010-01-01'\n",
    "end_date = '2025-12-31'\n",
    "\n",
    "df = yahoo_quotes(tickers, start_date, end_date)\n",
    "print(df)\n"
   ]
  },
  {
   "cell_type": "code",
   "execution_count": null,
   "metadata": {},
   "outputs": [],
   "source": [
    "df = df.dropna()\n",
    "print(df.info())\n",
    "print('*' * 100)\n",
    "\n",
    "\n",
    "df.to_parquet(YFINANCE_CLEAN)\n",
    "df_describe = df.describe()\n",
    "df_describe.to_csv(YFINANCE_DESCRIBE)\n",
    "print(df_describe)\n"
   ]
  },
  {
   "cell_type": "code",
   "execution_count": null,
   "metadata": {},
   "outputs": [],
   "source": []
  }
 ],
 "metadata": {
  "kernelspec": {
   "display_name": "Python 3",
   "language": "python",
   "name": "python3"
  },
  "language_info": {
   "codemirror_mode": {
    "name": "ipython",
    "version": 3
   },
   "file_extension": ".py",
   "mimetype": "text/x-python",
   "name": "python",
   "nbconvert_exporter": "python",
   "pygments_lexer": "ipython3",
   "version": "3.11.9"
  }
 },
 "nbformat": 4,
 "nbformat_minor": 2
}
