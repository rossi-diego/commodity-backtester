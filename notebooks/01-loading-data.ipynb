{
 "cells": [
  {
   "cell_type": "code",
   "execution_count": 1,
   "metadata": {},
   "outputs": [],
   "source": [
    "import sys\n",
    "sys.path.append('../src')\n",
    "\n",
    "import numpy as np\n",
    "import pandas as pd\n",
    "import yfinance as yf\n",
    "\n",
    "from config import YFINANCE_RAW, YFINANCE_CLEAN, YFINANCE_DESCRIBE\n",
    "from constants import commodities_dict, tickers\n",
    "from data_loader import yahoo_quotes\n"
   ]
  },
  {
   "cell_type": "code",
   "execution_count": 2,
   "metadata": {},
   "outputs": [
    {
     "name": "stdout",
     "output_type": "stream",
     "text": [
      "YF.download() has changed argument auto_adjust default to True\n"
     ]
    },
    {
     "name": "stderr",
     "output_type": "stream",
     "text": [
      "[*********************100%***********************]  7 of 7 completed"
     ]
    },
    {
     "name": "stdout",
     "output_type": "stream",
     "text": [
      "Ticker      Crude oil  Heating oil    Corn  Soybean oil  Soybean meal  \\\n",
      "date                                                                    \n",
      "2000-09-20  37.500000       1.0185  183.50    15.270000    167.800003   \n",
      "2000-09-21  33.950001       1.0000  183.75    15.360000    170.800003   \n",
      "2000-10-03  32.070000       0.9635  195.25    15.300000    172.699997   \n",
      "2000-10-09  31.879999       0.9549  199.50    15.120000    167.399994   \n",
      "2000-10-10  33.150002       0.9960  197.50    15.180000    168.800003   \n",
      "...               ...          ...     ...          ...           ...   \n",
      "2025-04-28  62.049999       2.1755  475.50    49.910000    287.000000   \n",
      "2025-04-29  60.419998       2.1204  460.50    48.849998    290.500000   \n",
      "2025-04-30  58.209999       2.0367  467.25    48.580002    290.000000   \n",
      "2025-05-01  59.240002       2.0120  464.25    49.360001    286.500000   \n",
      "2025-05-02  58.290001       1.9932  468.75    49.520000    296.899994   \n",
      "\n",
      "Ticker      Soybean   Wheat  \n",
      "date                         \n",
      "2000-09-20   483.25  248.00  \n",
      "2000-09-21   486.50  247.00  \n",
      "2000-10-03   488.50  269.00  \n",
      "2000-10-09   484.50  267.50  \n",
      "2000-10-10   483.00  267.00  \n",
      "...             ...     ...  \n",
      "2025-04-28  1052.00  515.50  \n",
      "2025-04-29  1041.00  505.75  \n",
      "2025-04-30  1034.75  513.00  \n",
      "2025-05-01  1040.25  515.25  \n",
      "2025-05-02  1058.25  543.00  \n",
      "\n",
      "[6028 rows x 7 columns]\n"
     ]
    },
    {
     "name": "stderr",
     "output_type": "stream",
     "text": [
      "\n"
     ]
    }
   ],
   "source": [
    "\n",
    "start_date = '1900-01-01'\n",
    "end_date = '2025-12-31'\n",
    "\n",
    "df = yahoo_quotes(start_date, end_date)\n",
    "print(df)\n"
   ]
  },
  {
   "cell_type": "code",
   "execution_count": 3,
   "metadata": {},
   "outputs": [
    {
     "name": "stdout",
     "output_type": "stream",
     "text": [
      "<class 'pandas.core.frame.DataFrame'>\n",
      "DatetimeIndex: 6028 entries, 2000-09-20 to 2025-05-02\n",
      "Data columns (total 7 columns):\n",
      " #   Column        Non-Null Count  Dtype  \n",
      "---  ------        --------------  -----  \n",
      " 0   Crude oil     6028 non-null   float64\n",
      " 1   Heating oil   6028 non-null   float64\n",
      " 2   Corn          6028 non-null   float64\n",
      " 3   Soybean oil   6028 non-null   float64\n",
      " 4   Soybean meal  6028 non-null   float64\n",
      " 5   Soybean       6028 non-null   float64\n",
      " 6   Wheat         6028 non-null   float64\n",
      "dtypes: float64(7)\n",
      "memory usage: 376.8 KB\n",
      "None\n",
      "****************************************************************************************************\n",
      "Ticker    Crude oil  Heating oil         Corn  Soybean oil  Soybean meal  \\\n",
      "count   6028.000000  6028.000000  6028.000000  6028.000000   6028.000000   \n",
      "mean      65.710984     2.029710   417.425265    38.074602    312.668132   \n",
      "std       24.504774     0.809125   157.510222    14.448816     92.990397   \n",
      "min      -37.630001     0.509000   183.500000    14.380000    147.000000   \n",
      "25%       47.327501     1.476300   325.687500    28.070000    257.025002   \n",
      "50%       65.480000     1.969200   378.500000    34.049999    313.299988   \n",
      "75%       83.162502     2.673850   507.000000    48.812501    376.600006   \n",
      "max      145.289993     5.135400   831.250000    90.599998    548.099976   \n",
      "\n",
      "Ticker      Soybean        Wheat  \n",
      "count   6028.000000  6028.000000  \n",
      "mean    1019.294998   545.690693  \n",
      "std      323.945969   178.442743  \n",
      "min      418.500000   244.750000  \n",
      "25%      835.437500   419.500000  \n",
      "50%      989.000000   523.500000  \n",
      "75%     1298.750000   653.500000  \n",
      "max     1771.000000  1425.250000  \n"
     ]
    }
   ],
   "source": [
    "print(df.info())\n",
    "print('*' * 100)\n",
    "\n",
    "\n",
    "df.to_parquet(YFINANCE_CLEAN)\n",
    "df_describe = df.describe()\n",
    "df_describe.to_csv(YFINANCE_DESCRIBE)\n",
    "print(df_describe)\n"
   ]
  },
  {
   "cell_type": "code",
   "execution_count": null,
   "metadata": {},
   "outputs": [],
   "source": []
  },
  {
   "cell_type": "code",
   "execution_count": null,
   "metadata": {},
   "outputs": [],
   "source": []
  }
 ],
 "metadata": {
  "kernelspec": {
   "display_name": "backtest",
   "language": "python",
   "name": "python3"
  },
  "language_info": {
   "codemirror_mode": {
    "name": "ipython",
    "version": 3
   },
   "file_extension": ".py",
   "mimetype": "text/x-python",
   "name": "python",
   "nbconvert_exporter": "python",
   "pygments_lexer": "ipython3",
   "version": "3.11.9"
  }
 },
 "nbformat": 4,
 "nbformat_minor": 2
}
