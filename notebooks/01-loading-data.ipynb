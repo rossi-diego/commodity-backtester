{
 "cells": [
  {
   "cell_type": "code",
   "execution_count": 3,
   "metadata": {},
   "outputs": [],
   "source": [
    "import sys\n",
    "sys.path.append('../src')\n",
    "\n",
    "import numpy as np\n",
    "import pandas as pd\n",
    "import yfinance as yf\n",
    "\n",
    "from config import YFINANCE_RAW, YFINANCE_CLEAN, YFINANCE_DESCRIBE\n",
    "from constants import commodities_dict, tickers\n",
    "from data_loader import yahoo_quotes\n"
   ]
  },
  {
   "cell_type": "code",
   "execution_count": 6,
   "metadata": {},
   "outputs": [
    {
     "ename": "NameError",
     "evalue": "name 'tickers' is not defined",
     "output_type": "error",
     "traceback": [
      "\u001b[31m---------------------------------------------------------------------------\u001b[39m",
      "\u001b[31mNameError\u001b[39m                                 Traceback (most recent call last)",
      "\u001b[36mCell\u001b[39m\u001b[36m \u001b[39m\u001b[32mIn[6]\u001b[39m\u001b[32m, line 4\u001b[39m\n\u001b[32m      1\u001b[39m start_date = \u001b[33m'\u001b[39m\u001b[33m1900-01-01\u001b[39m\u001b[33m'\u001b[39m\n\u001b[32m      2\u001b[39m end_date = \u001b[33m'\u001b[39m\u001b[33m2025-12-31\u001b[39m\u001b[33m'\u001b[39m\n\u001b[32m----> \u001b[39m\u001b[32m4\u001b[39m df = \u001b[43myahoo_quotes\u001b[49m\u001b[43m(\u001b[49m\u001b[43mstart_date\u001b[49m\u001b[43m,\u001b[49m\u001b[43m \u001b[49m\u001b[43mend_date\u001b[49m\u001b[43m)\u001b[49m\n\u001b[32m      5\u001b[39m \u001b[38;5;28mprint\u001b[39m(df)\n",
      "\u001b[36mFile \u001b[39m\u001b[32mc:\\Users\\d1eg0\\Desktop\\python\\backtest\\spreads\\notebooks\\../src\\data_loader.py:14\u001b[39m, in \u001b[36myahoo_quotes\u001b[39m\u001b[34m(start_date, end_date)\u001b[39m\n\u001b[32m     11\u001b[39m     end_date = pd.Timestamp.today().strftime(\u001b[33m'\u001b[39m\u001b[33m%\u001b[39m\u001b[33mY-\u001b[39m\u001b[33m%\u001b[39m\u001b[33mm-\u001b[39m\u001b[38;5;132;01m%d\u001b[39;00m\u001b[33m'\u001b[39m)\n\u001b[32m     13\u001b[39m \u001b[38;5;66;03m# Download Yahoo Finance data\u001b[39;00m\n\u001b[32m---> \u001b[39m\u001b[32m14\u001b[39m df = yf.download(\u001b[43mtickers\u001b[49m, start=start_date, end=end_date)[\u001b[33m\"\u001b[39m\u001b[33mClose\u001b[39m\u001b[33m\"\u001b[39m]\n\u001b[32m     16\u001b[39m \u001b[38;5;66;03m# Drop rows with missing values\u001b[39;00m\n\u001b[32m     17\u001b[39m df = df.dropna()\n",
      "\u001b[31mNameError\u001b[39m: name 'tickers' is not defined"
     ]
    }
   ],
   "source": [
    "\n",
    "start_date = '1900-01-01'\n",
    "end_date = '2025-12-31'\n",
    "\n",
    "df = yahoo_quotes(start_date, end_date)\n",
    "print(df)\n"
   ]
  },
  {
   "cell_type": "code",
   "execution_count": 5,
   "metadata": {},
   "outputs": [
    {
     "ename": "NameError",
     "evalue": "name 'df' is not defined",
     "output_type": "error",
     "traceback": [
      "\u001b[31m---------------------------------------------------------------------------\u001b[39m",
      "\u001b[31mNameError\u001b[39m                                 Traceback (most recent call last)",
      "\u001b[36mCell\u001b[39m\u001b[36m \u001b[39m\u001b[32mIn[5]\u001b[39m\u001b[32m, line 1\u001b[39m\n\u001b[32m----> \u001b[39m\u001b[32m1\u001b[39m \u001b[38;5;28mprint\u001b[39m(\u001b[43mdf\u001b[49m.info())\n\u001b[32m      2\u001b[39m \u001b[38;5;28mprint\u001b[39m(\u001b[33m'\u001b[39m\u001b[33m*\u001b[39m\u001b[33m'\u001b[39m * \u001b[32m100\u001b[39m)\n\u001b[32m      5\u001b[39m df.to_parquet(YFINANCE_CLEAN)\n",
      "\u001b[31mNameError\u001b[39m: name 'df' is not defined"
     ]
    }
   ],
   "source": [
    "print(df.info())\n",
    "print('*' * 100)\n",
    "\n",
    "\n",
    "df.to_parquet(YFINANCE_CLEAN)\n",
    "df_describe = df.describe()\n",
    "df_describe.to_csv(YFINANCE_DESCRIBE)\n",
    "print(df_describe)\n"
   ]
  },
  {
   "cell_type": "code",
   "execution_count": null,
   "metadata": {},
   "outputs": [],
   "source": []
  },
  {
   "cell_type": "code",
   "execution_count": null,
   "metadata": {},
   "outputs": [],
   "source": []
  }
 ],
 "metadata": {
  "kernelspec": {
   "display_name": "backtest",
   "language": "python",
   "name": "python3"
  },
  "language_info": {
   "codemirror_mode": {
    "name": "ipython",
    "version": 3
   },
   "file_extension": ".py",
   "mimetype": "text/x-python",
   "name": "python",
   "nbconvert_exporter": "python",
   "pygments_lexer": "ipython3",
   "version": "3.11.9"
  }
 },
 "nbformat": 4,
 "nbformat_minor": 2
}
